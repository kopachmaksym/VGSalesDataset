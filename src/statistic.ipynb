{
 "cells": [
  {
   "cell_type": "code",
   "execution_count": 5,
   "metadata": {
    "id": "gegsyl-2N6ah",
    "executionInfo": {
     "status": "ok",
     "timestamp": 1678571280730,
     "user_tz": -120,
     "elapsed": 1569,
     "user": {
      "displayName": "Ольга Нарушинська",
      "userId": "17109802701742785659"
     }
    },
    "ExecuteTime": {
     "end_time": "2024-05-15T17:20:09.606810200Z",
     "start_time": "2024-05-15T17:20:09.491087100Z"
    }
   },
   "outputs": [],
   "source": [
    "import os.path\n",
    "\n",
    "import pandas as pd\n",
    "import numpy as np\n",
    "import matplotlib.pyplot as plt\n",
    "import seaborn as sns"
   ]
  },
  {
   "cell_type": "code",
   "execution_count": 6,
   "metadata": {
    "id": "YYPGziCJN6ah",
    "executionInfo": {
     "status": "ok",
     "timestamp": 1678571281984,
     "user_tz": -120,
     "elapsed": 240,
     "user": {
      "displayName": "Ольга Нарушинська",
      "userId": "17109802701742785659"
     }
    },
    "ExecuteTime": {
     "end_time": "2024-05-15T17:20:09.647414300Z",
     "start_time": "2024-05-15T17:20:09.496321600Z"
    }
   },
   "outputs": [],
   "source": [
    "import warnings\n",
    "warnings.simplefilter('ignore')"
   ]
  },
  {
   "cell_type": "markdown",
   "metadata": {
    "id": "G7seCbT1N6ah"
   },
   "source": [
    "# Read and Review the dataset for churn "
   ]
  },
  {
   "cell_type": "markdown",
   "metadata": {
    "id": "4wNNdZCON6ai"
   },
   "source": [
    "### Read csv file"
   ]
  },
  {
   "cell_type": "code",
   "execution_count": 7,
   "metadata": {
    "id": "N7DnG5zqN6ai",
    "outputId": "1308d37a-9c84-4cf8-c59b-c2cb49f1c8b6",
    "colab": {
     "base_uri": "https://localhost:8080/"
    },
    "executionInfo": {
     "status": "ok",
     "timestamp": 1678571613266,
     "user_tz": -120,
     "elapsed": 238,
     "user": {
      "displayName": "Ольга Нарушинська",
      "userId": "17109802701742785659"
     }
    },
    "ExecuteTime": {
     "end_time": "2024-05-15T17:20:09.685765600Z",
     "start_time": "2024-05-15T17:20:09.503665100Z"
    }
   },
   "outputs": [
    {
     "name": "stdout",
     "output_type": "stream",
     "text": [
      "True\n"
     ]
    }
   ],
   "source": [
    "print(os.path.exists(\"../data/vgsales.csv\"))"
   ]
  },
  {
   "cell_type": "code",
   "execution_count": 8,
   "metadata": {
    "id": "xyyoiPddN6aj",
    "executionInfo": {
     "status": "ok",
     "timestamp": 1678571619021,
     "user_tz": -120,
     "elapsed": 954,
     "user": {
      "displayName": "Ольга Нарушинська",
      "userId": "17109802701742785659"
     }
    },
    "ExecuteTime": {
     "end_time": "2024-05-15T17:20:09.712097900Z",
     "start_time": "2024-05-15T17:20:09.509693200Z"
    }
   },
   "outputs": [],
   "source": [
    "ds = pd.read_csv(\"../data/vgsales.csv\")"
   ]
  },
  {
   "cell_type": "code",
   "execution_count": 9,
   "metadata": {
    "id": "joimT6sQN6aj",
    "outputId": "0d8d1894-3a1d-4455-f942-3c554c9a43e0",
    "colab": {
     "base_uri": "https://localhost:8080/"
    },
    "executionInfo": {
     "status": "ok",
     "timestamp": 1678571620194,
     "user_tz": -120,
     "elapsed": 3,
     "user": {
      "displayName": "Ольга Нарушинська",
      "userId": "17109802701742785659"
     }
    },
    "ExecuteTime": {
     "end_time": "2024-05-15T17:20:09.712097900Z",
     "start_time": "2024-05-15T17:20:09.559765Z"
    }
   },
   "outputs": [
    {
     "name": "stdout",
     "output_type": "stream",
     "text": [
      "columns count -  11 \n",
      "\n",
      "columns:  ['Rank', 'Name', 'Platform', 'Year', 'Genre', 'Publisher', 'NA_Sales', 'EU_Sales', 'JP_Sales', 'Other_Sales', 'Global_Sales']\n"
     ]
    }
   ],
   "source": [
    "print('columns count - ',len(ds.columns), '\\n')\n",
    "print('columns: ',list(ds.columns))"
   ]
  },
  {
   "cell_type": "code",
   "execution_count": 10,
   "metadata": {
    "id": "df5NfILIN6aj",
    "outputId": "2cf6cef1-8e46-4c5d-de36-ac5031a5bcc3",
    "colab": {
     "base_uri": "https://localhost:8080/"
    },
    "executionInfo": {
     "status": "ok",
     "timestamp": 1678571621758,
     "user_tz": -120,
     "elapsed": 227,
     "user": {
      "displayName": "Ольга Нарушинська",
      "userId": "17109802701742785659"
     }
    },
    "ExecuteTime": {
     "end_time": "2024-05-15T17:20:09.713097400Z",
     "start_time": "2024-05-15T17:20:09.563771800Z"
    }
   },
   "outputs": [
    {
     "name": "stdout",
     "output_type": "stream",
     "text": [
      "Samples count:  16291\n"
     ]
    }
   ],
   "source": [
    "print('Samples count: ',ds.shape[0])"
   ]
  },
  {
   "cell_type": "code",
   "execution_count": 11,
   "metadata": {
    "id": "taytDyqhN6aj",
    "outputId": "3496924e-2baf-4e41-aaad-4f640a30f97a",
    "colab": {
     "base_uri": "https://localhost:8080/",
     "height": 300
    },
    "executionInfo": {
     "status": "ok",
     "timestamp": 1678571623208,
     "user_tz": -120,
     "elapsed": 386,
     "user": {
      "displayName": "Ольга Нарушинська",
      "userId": "17109802701742785659"
     }
    },
    "ExecuteTime": {
     "end_time": "2024-05-15T17:20:09.713097400Z",
     "start_time": "2024-05-15T17:20:09.570765100Z"
    }
   },
   "outputs": [
    {
     "data": {
      "text/plain": "   Rank                      Name Platform    Year         Genre Publisher  \\\n0     1                Wii Sports      Wii  2006.0        Sports  Nintendo   \n1     2         Super Mario Bros.      NES  1985.0      Platform  Nintendo   \n2     3            Mario Kart Wii      Wii  2008.0        Racing  Nintendo   \n3     4         Wii Sports Resort      Wii  2009.0        Sports  Nintendo   \n4     5  Pokemon Red/Pokemon Blue       GB  1996.0  Role-Playing  Nintendo   \n\n   NA_Sales  EU_Sales  JP_Sales  Other_Sales  Global_Sales  \n0     41.49     29.02      3.77         8.46         82.74  \n1     29.08      3.58      6.81         0.77         40.24  \n2     15.85     12.88      3.79         3.31         35.82  \n3     15.75     11.01      3.28         2.96         33.00  \n4     11.27      8.89     10.22         1.00         31.37  ",
      "text/html": "<div>\n<style scoped>\n    .dataframe tbody tr th:only-of-type {\n        vertical-align: middle;\n    }\n\n    .dataframe tbody tr th {\n        vertical-align: top;\n    }\n\n    .dataframe thead th {\n        text-align: right;\n    }\n</style>\n<table border=\"1\" class=\"dataframe\">\n  <thead>\n    <tr style=\"text-align: right;\">\n      <th></th>\n      <th>Rank</th>\n      <th>Name</th>\n      <th>Platform</th>\n      <th>Year</th>\n      <th>Genre</th>\n      <th>Publisher</th>\n      <th>NA_Sales</th>\n      <th>EU_Sales</th>\n      <th>JP_Sales</th>\n      <th>Other_Sales</th>\n      <th>Global_Sales</th>\n    </tr>\n  </thead>\n  <tbody>\n    <tr>\n      <th>0</th>\n      <td>1</td>\n      <td>Wii Sports</td>\n      <td>Wii</td>\n      <td>2006.0</td>\n      <td>Sports</td>\n      <td>Nintendo</td>\n      <td>41.49</td>\n      <td>29.02</td>\n      <td>3.77</td>\n      <td>8.46</td>\n      <td>82.74</td>\n    </tr>\n    <tr>\n      <th>1</th>\n      <td>2</td>\n      <td>Super Mario Bros.</td>\n      <td>NES</td>\n      <td>1985.0</td>\n      <td>Platform</td>\n      <td>Nintendo</td>\n      <td>29.08</td>\n      <td>3.58</td>\n      <td>6.81</td>\n      <td>0.77</td>\n      <td>40.24</td>\n    </tr>\n    <tr>\n      <th>2</th>\n      <td>3</td>\n      <td>Mario Kart Wii</td>\n      <td>Wii</td>\n      <td>2008.0</td>\n      <td>Racing</td>\n      <td>Nintendo</td>\n      <td>15.85</td>\n      <td>12.88</td>\n      <td>3.79</td>\n      <td>3.31</td>\n      <td>35.82</td>\n    </tr>\n    <tr>\n      <th>3</th>\n      <td>4</td>\n      <td>Wii Sports Resort</td>\n      <td>Wii</td>\n      <td>2009.0</td>\n      <td>Sports</td>\n      <td>Nintendo</td>\n      <td>15.75</td>\n      <td>11.01</td>\n      <td>3.28</td>\n      <td>2.96</td>\n      <td>33.00</td>\n    </tr>\n    <tr>\n      <th>4</th>\n      <td>5</td>\n      <td>Pokemon Red/Pokemon Blue</td>\n      <td>GB</td>\n      <td>1996.0</td>\n      <td>Role-Playing</td>\n      <td>Nintendo</td>\n      <td>11.27</td>\n      <td>8.89</td>\n      <td>10.22</td>\n      <td>1.00</td>\n      <td>31.37</td>\n    </tr>\n  </tbody>\n</table>\n</div>"
     },
     "metadata": {},
     "output_type": "display_data"
    }
   ],
   "source": [
    "display(ds.head(5))"
   ]
  },
  {
   "cell_type": "markdown",
   "metadata": {
    "id": "3m8JM4S5N6ak"
   },
   "source": [
    "### Chek missing data"
   ]
  },
  {
   "cell_type": "code",
   "execution_count": 12,
   "metadata": {
    "id": "yRVwoR9AN6ak",
    "outputId": "7cfb1034-ef69-418a-a6f4-6d6776945cdb",
    "colab": {
     "base_uri": "https://localhost:8080/"
    },
    "executionInfo": {
     "status": "ok",
     "timestamp": 1678571627543,
     "user_tz": -120,
     "elapsed": 241,
     "user": {
      "displayName": "Ольга Нарушинська",
      "userId": "17109802701742785659"
     }
    },
    "ExecuteTime": {
     "end_time": "2024-05-15T17:20:09.713097400Z",
     "start_time": "2024-05-15T17:20:09.598461900Z"
    }
   },
   "outputs": [
    {
     "name": "stdout",
     "output_type": "stream",
     "text": [
      "Any missing sample in training set: False\n"
     ]
    }
   ],
   "source": [
    "print(\"Any missing sample in training set:\",ds.isnull().values.any())"
   ]
  },
  {
   "cell_type": "code",
   "execution_count": 13,
   "metadata": {
    "id": "yKo_LKVdN6ak",
    "outputId": "898e11e4-666b-48d2-f110-d26fa4876545",
    "colab": {
     "base_uri": "https://localhost:8080/"
    },
    "executionInfo": {
     "status": "ok",
     "timestamp": 1678571629425,
     "user_tz": -120,
     "elapsed": 302,
     "user": {
      "displayName": "Ольга Нарушинська",
      "userId": "17109802701742785659"
     }
    },
    "ExecuteTime": {
     "end_time": "2024-05-15T17:20:09.714117500Z",
     "start_time": "2024-05-15T17:20:09.608813100Z"
    }
   },
   "outputs": [],
   "source": [
    "for col in ds.columns:\n",
    "    if ds[col].isnull().values.any():\n",
    "        print(\"Missing data in \", col)"
   ]
  },
  {
   "cell_type": "code",
   "execution_count": 14,
   "metadata": {
    "id": "SzBFCSjRN6ak",
    "outputId": "a3107ce4-cfd3-45fc-91f9-b7dfac890315",
    "colab": {
     "base_uri": "https://localhost:8080/"
    },
    "executionInfo": {
     "status": "ok",
     "timestamp": 1678571630899,
     "user_tz": -120,
     "elapsed": 371,
     "user": {
      "displayName": "Ольга Нарушинська",
      "userId": "17109802701742785659"
     }
    },
    "ExecuteTime": {
     "end_time": "2024-05-15T17:20:09.714117500Z",
     "start_time": "2024-05-15T17:20:09.620900200Z"
    }
   },
   "outputs": [],
   "source": [
    "missing = list()\n",
    "for x in ds.columns:\n",
    "    if ds[x].isnull().sum() != 0:\n",
    "        print(x, ds[x].isnull().sum())\n",
    "        missing.append(x)"
   ]
  },
  {
   "cell_type": "markdown",
   "metadata": {
    "id": "ESlo85bJN6ak"
   },
   "source": [
    "### Unique values count"
   ]
  },
  {
   "cell_type": "code",
   "execution_count": 15,
   "metadata": {
    "id": "QaZ5uD_MN6ak",
    "outputId": "5ef2d27d-8fb4-4879-8d16-7beb5c792f7f",
    "colab": {
     "base_uri": "https://localhost:8080/"
    },
    "executionInfo": {
     "status": "ok",
     "timestamp": 1678571637065,
     "user_tz": -120,
     "elapsed": 235,
     "user": {
      "displayName": "Ольга Нарушинська",
      "userId": "17109802701742785659"
     }
    },
    "ExecuteTime": {
     "end_time": "2024-05-15T17:20:09.714117500Z",
     "start_time": "2024-05-15T17:20:09.635738200Z"
    }
   },
   "outputs": [
    {
     "data": {
      "text/plain": "Rank            16291\nName            11325\nPlatform           31\nYear               39\nGenre              12\nPublisher         576\nNA_Sales          408\nEU_Sales          305\nJP_Sales          244\nOther_Sales       157\nGlobal_Sales      621\ndtype: int64"
     },
     "execution_count": 15,
     "metadata": {},
     "output_type": "execute_result"
    }
   ],
   "source": [
    "ds.nunique()"
   ]
  },
  {
   "cell_type": "markdown",
   "metadata": {
    "id": "jqfJE8xPN6al"
   },
   "source": [
    "### Distribution statistics"
   ]
  },
  {
   "cell_type": "code",
   "execution_count": 16,
   "metadata": {
    "id": "kvgTHes-N6al",
    "outputId": "85fd3839-3271-407b-d0c8-d1469f1d4379",
    "colab": {
     "base_uri": "https://localhost:8080/",
     "height": 394
    },
    "executionInfo": {
     "status": "ok",
     "timestamp": 1678571639953,
     "user_tz": -120,
     "elapsed": 498,
     "user": {
      "displayName": "Ольга Нарушинська",
      "userId": "17109802701742785659"
     }
    },
    "ExecuteTime": {
     "end_time": "2024-05-15T17:20:09.715125600Z",
     "start_time": "2024-05-15T17:20:09.654845100Z"
    }
   },
   "outputs": [
    {
     "data": {
      "text/plain": "               Rank          Year      NA_Sales      EU_Sales      JP_Sales  \\\ncount  16291.000000  16291.000000  16291.000000  16291.000000  16291.000000   \nmean    8290.190228   2006.405561      0.265647      0.147731      0.078833   \nstd     4792.654450      5.832412      0.822432      0.509303      0.311879   \nmin        1.000000   1980.000000      0.000000      0.000000      0.000000   \n25%     4132.500000   2003.000000      0.000000      0.000000      0.000000   \n50%     8292.000000   2007.000000      0.080000      0.020000      0.000000   \n75%    12439.500000   2010.000000      0.240000      0.110000      0.040000   \nmax    16600.000000   2020.000000     41.490000     29.020000     10.220000   \n\n        Other_Sales  Global_Sales  \ncount  16291.000000  16291.000000  \nmean       0.048426      0.540910  \nstd        0.190083      1.567345  \nmin        0.000000      0.010000  \n25%        0.000000      0.060000  \n50%        0.010000      0.170000  \n75%        0.040000      0.480000  \nmax       10.570000     82.740000  ",
      "text/html": "<div>\n<style scoped>\n    .dataframe tbody tr th:only-of-type {\n        vertical-align: middle;\n    }\n\n    .dataframe tbody tr th {\n        vertical-align: top;\n    }\n\n    .dataframe thead th {\n        text-align: right;\n    }\n</style>\n<table border=\"1\" class=\"dataframe\">\n  <thead>\n    <tr style=\"text-align: right;\">\n      <th></th>\n      <th>Rank</th>\n      <th>Year</th>\n      <th>NA_Sales</th>\n      <th>EU_Sales</th>\n      <th>JP_Sales</th>\n      <th>Other_Sales</th>\n      <th>Global_Sales</th>\n    </tr>\n  </thead>\n  <tbody>\n    <tr>\n      <th>count</th>\n      <td>16291.000000</td>\n      <td>16291.000000</td>\n      <td>16291.000000</td>\n      <td>16291.000000</td>\n      <td>16291.000000</td>\n      <td>16291.000000</td>\n      <td>16291.000000</td>\n    </tr>\n    <tr>\n      <th>mean</th>\n      <td>8290.190228</td>\n      <td>2006.405561</td>\n      <td>0.265647</td>\n      <td>0.147731</td>\n      <td>0.078833</td>\n      <td>0.048426</td>\n      <td>0.540910</td>\n    </tr>\n    <tr>\n      <th>std</th>\n      <td>4792.654450</td>\n      <td>5.832412</td>\n      <td>0.822432</td>\n      <td>0.509303</td>\n      <td>0.311879</td>\n      <td>0.190083</td>\n      <td>1.567345</td>\n    </tr>\n    <tr>\n      <th>min</th>\n      <td>1.000000</td>\n      <td>1980.000000</td>\n      <td>0.000000</td>\n      <td>0.000000</td>\n      <td>0.000000</td>\n      <td>0.000000</td>\n      <td>0.010000</td>\n    </tr>\n    <tr>\n      <th>25%</th>\n      <td>4132.500000</td>\n      <td>2003.000000</td>\n      <td>0.000000</td>\n      <td>0.000000</td>\n      <td>0.000000</td>\n      <td>0.000000</td>\n      <td>0.060000</td>\n    </tr>\n    <tr>\n      <th>50%</th>\n      <td>8292.000000</td>\n      <td>2007.000000</td>\n      <td>0.080000</td>\n      <td>0.020000</td>\n      <td>0.000000</td>\n      <td>0.010000</td>\n      <td>0.170000</td>\n    </tr>\n    <tr>\n      <th>75%</th>\n      <td>12439.500000</td>\n      <td>2010.000000</td>\n      <td>0.240000</td>\n      <td>0.110000</td>\n      <td>0.040000</td>\n      <td>0.040000</td>\n      <td>0.480000</td>\n    </tr>\n    <tr>\n      <th>max</th>\n      <td>16600.000000</td>\n      <td>2020.000000</td>\n      <td>41.490000</td>\n      <td>29.020000</td>\n      <td>10.220000</td>\n      <td>10.570000</td>\n      <td>82.740000</td>\n    </tr>\n  </tbody>\n</table>\n</div>"
     },
     "execution_count": 16,
     "metadata": {},
     "output_type": "execute_result"
    }
   ],
   "source": [
    "ds.describe()"
   ]
  },
  {
   "cell_type": "markdown",
   "metadata": {
    "id": "Dt4ceC76N6al"
   },
   "source": [
    "### Values type descriptions"
   ]
  },
  {
   "cell_type": "code",
   "execution_count": 17,
   "metadata": {
    "id": "1J-tP2dMN6al",
    "outputId": "8fd46ebe-d34e-41e5-d9b8-c7ba637293ce",
    "colab": {
     "base_uri": "https://localhost:8080/"
    },
    "executionInfo": {
     "status": "ok",
     "timestamp": 1678571642306,
     "user_tz": -120,
     "elapsed": 226,
     "user": {
      "displayName": "Ольга Нарушинська",
      "userId": "17109802701742785659"
     }
    },
    "ExecuteTime": {
     "end_time": "2024-05-15T17:20:09.715125600Z",
     "start_time": "2024-05-15T17:20:09.677098200Z"
    }
   },
   "outputs": [
    {
     "name": "stdout",
     "output_type": "stream",
     "text": [
      "<class 'pandas.core.frame.DataFrame'>\n",
      "RangeIndex: 16291 entries, 0 to 16290\n",
      "Data columns (total 11 columns):\n",
      " #   Column        Non-Null Count  Dtype  \n",
      "---  ------        --------------  -----  \n",
      " 0   Rank          16291 non-null  int64  \n",
      " 1   Name          16291 non-null  object \n",
      " 2   Platform      16291 non-null  object \n",
      " 3   Year          16291 non-null  float64\n",
      " 4   Genre         16291 non-null  object \n",
      " 5   Publisher     16291 non-null  object \n",
      " 6   NA_Sales      16291 non-null  float64\n",
      " 7   EU_Sales      16291 non-null  float64\n",
      " 8   JP_Sales      16291 non-null  float64\n",
      " 9   Other_Sales   16291 non-null  float64\n",
      " 10  Global_Sales  16291 non-null  float64\n",
      "dtypes: float64(6), int64(1), object(4)\n",
      "memory usage: 1.4+ MB\n"
     ]
    }
   ],
   "source": [
    "ds.info()"
   ]
  }
 ],
 "metadata": {
  "kernelspec": {
   "display_name": "Python 3",
   "language": "python",
   "name": "python3"
  },
  "language_info": {
   "codemirror_mode": {
    "name": "ipython",
    "version": 3
   },
   "file_extension": ".py",
   "mimetype": "text/x-python",
   "name": "python",
   "nbconvert_exporter": "python",
   "pygments_lexer": "ipython3",
   "version": "3.10.10"
  },
  "vscode": {
   "interpreter": {
    "hash": "7172106abc92638029cd8423ee47f98336618e2f42ec4b056b806f415585df73"
   }
  },
  "colab": {
   "provenance": [],
   "toc_visible": true
  }
 },
 "nbformat": 4,
 "nbformat_minor": 0
}
